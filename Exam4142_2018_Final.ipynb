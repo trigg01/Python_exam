{
 "cells": [
  {
   "cell_type": "markdown",
   "metadata": {},
   "source": [
    "# Exam GRA 4142"
   ]
  },
  {
   "cell_type": "markdown",
   "metadata": {},
   "source": [
    "### Add group members here:\n",
    "\n",
    "ID 1: XXXX\n",
    "\n",
    "ID 2: XXXX\n",
    "\n",
    "ID 3: XXXX\n",
    "    "
   ]
  },
  {
   "cell_type": "markdown",
   "metadata": {},
   "source": [
    "# Instructions\n",
    "\n",
    "The exam consists of three parts and eleven problems. To make it more readable the exam is divided in several small questions. The answers should not be more than a few lines of coding (of course there may be more than one solution method). \n",
    "\n",
    "Please write your code and execute each line in the notebook. You may add comments to your code if neccessary. (Make sure you don't print out long dataframes. Be concise. )\n",
    "\n",
    "You can work in groups of up to three students. Please rename this python file as `Exam4142_Group_Num#.ipynb` where you should replace `#` by the number of students in your group. Please, also write in the exam the ID number for each student in the group. \n"
   ]
  },
  {
   "cell_type": "markdown",
   "metadata": {},
   "source": [
    "# Part I. "
   ]
  },
  {
   "cell_type": "markdown",
   "metadata": {},
   "source": [
    "### Problem 1.  (5 points)\n",
    "Take the following Python code that stores a string:\n",
    "\n",
    "    my_str = 'X-DSPAM-Confidence:0.8475'\n",
    "\n",
    "Use `find` and string slicing to extract the portion of the string after the colon character and then convert the extracted string into a floating point number. Please print a line of text as follows:\n",
    "\n",
    "    I find a number, 0.8475, in the string.\n"
   ]
  },
  {
   "cell_type": "code",
   "execution_count": null,
   "metadata": {
    "collapsed": true
   },
   "outputs": [],
   "source": []
  },
  {
   "cell_type": "code",
   "execution_count": null,
   "metadata": {
    "collapsed": true
   },
   "outputs": [],
   "source": []
  },
  {
   "cell_type": "code",
   "execution_count": null,
   "metadata": {
    "collapsed": true
   },
   "outputs": [],
   "source": []
  },
  {
   "cell_type": "markdown",
   "metadata": {},
   "source": [
    "### Problem 2. (5 points)\n",
    "\n",
    "Consider the following two strings:\n",
    "\n",
    "    s1 = \"spam\"\n",
    "    s2 = \"ni!\"\n",
    "    \n",
    "Write a Python code, that perform string operations on `s1` and `s2`, and produces the following outcome:\n",
    " \n",
    "\n",
    "a. \"NI\"\n",
    "\n",
    "b. \"ni!spamni!\"\n",
    "\n",
    "c. \"Spam Ni! Spam Ni! Spam Ni!\" \n",
    "\n",
    "d. \"maps\"\n",
    "\n",
    "e. [\"sp\",\"m\"]\n",
    "\n",
    "f. \"spm\"\n"
   ]
  },
  {
   "cell_type": "code",
   "execution_count": null,
   "metadata": {
    "collapsed": true
   },
   "outputs": [],
   "source": []
  },
  {
   "cell_type": "code",
   "execution_count": null,
   "metadata": {
    "collapsed": true
   },
   "outputs": [],
   "source": []
  },
  {
   "cell_type": "markdown",
   "metadata": {},
   "source": [
    "### Problem 3. (5 points)\n",
    "A professor gives 5-point quizzes that are graded on the scale 5-A, 4-B, 3-C, 2-D, 1- F, 0-F. Write a program that accepts a quiz score as an input and prints out the corresponding grade. For example: if the point-score is 4, the code should give 'B' as answer."
   ]
  },
  {
   "cell_type": "code",
   "execution_count": null,
   "metadata": {
    "collapsed": true
   },
   "outputs": [],
   "source": []
  },
  {
   "cell_type": "code",
   "execution_count": null,
   "metadata": {
    "collapsed": true
   },
   "outputs": [],
   "source": []
  },
  {
   "cell_type": "markdown",
   "metadata": {},
   "source": [
    "### Problem 4. (5 points)\n",
    "The body mass index (BMI) is calculated as a person’s weight (in kilograms), divided by the square of the person’s height (in metres). A BMI in the range 19–25, inclusive, is considered healthy. Write a program that calculates a person’s BMI and prints a message telling whether they are above, within, or below the healthy range.\n",
    "\n"
   ]
  },
  {
   "cell_type": "code",
   "execution_count": null,
   "metadata": {
    "collapsed": true
   },
   "outputs": [],
   "source": []
  },
  {
   "cell_type": "code",
   "execution_count": null,
   "metadata": {
    "collapsed": true
   },
   "outputs": [],
   "source": []
  },
  {
   "cell_type": "markdown",
   "metadata": {},
   "source": [
    "### Problem 5. (8 points)\n",
    "Initialize a list containing the following elements: 4, 3.1415, 1.0, 'Hello', and 'World'. Then, do the following:\n",
    "\n",
    "a. Delete 1.0 assuming you know the position on the list? What if you didn’t know its position? \n",
    "\n",
    "b. Append the elements 1.5, 4, 'Hello' to the existing list, to get an extended list as follows:\n",
    "\n",
    "    [4,3.1415,1.0,'Hello','World',1.5, 4, 'Hello']\n",
    "\n",
    "c. Arrange the list in reverse order.\n",
    "\n",
    "d. Count the occurrence of 'Hello' in the extended list."
   ]
  },
  {
   "cell_type": "code",
   "execution_count": null,
   "metadata": {
    "collapsed": true
   },
   "outputs": [],
   "source": []
  },
  {
   "cell_type": "code",
   "execution_count": null,
   "metadata": {
    "collapsed": true
   },
   "outputs": [],
   "source": []
  },
  {
   "cell_type": "code",
   "execution_count": null,
   "metadata": {
    "collapsed": true
   },
   "outputs": [],
   "source": []
  },
  {
   "cell_type": "code",
   "execution_count": null,
   "metadata": {
    "collapsed": true
   },
   "outputs": [],
   "source": []
  },
  {
   "cell_type": "code",
   "execution_count": null,
   "metadata": {
    "collapsed": true
   },
   "outputs": [],
   "source": []
  },
  {
   "cell_type": "markdown",
   "metadata": {},
   "source": [
    "### Problem 6. (6 points)\n",
    "Ask the user to enter 5 test scores with numerical value between 0 and 100 (integers). Write a program to do the following after all the scores have been entered:\n",
    "\n",
    "a. Print out the highest and lowest scores.\n",
    "\n",
    "b. Print out the average of the scores.\n",
    "\n",
    "c. Print out the second largest score.\n"
   ]
  },
  {
   "cell_type": "code",
   "execution_count": null,
   "metadata": {
    "collapsed": true
   },
   "outputs": [],
   "source": []
  },
  {
   "cell_type": "code",
   "execution_count": null,
   "metadata": {
    "collapsed": true
   },
   "outputs": [],
   "source": []
  },
  {
   "cell_type": "code",
   "execution_count": null,
   "metadata": {
    "collapsed": true
   },
   "outputs": [],
   "source": []
  },
  {
   "cell_type": "markdown",
   "metadata": {},
   "source": [
    "### Problem 7. (6 points)\n",
    "\n",
    "Consider the following dictionary:\n",
    "\n",
    "    commodity = {\n",
    "        'oil' : 501,\n",
    "        'copper' : ['upper grade', 'lower grade'],\n",
    "        'soybean' : ['asia','south america', 'north america']\n",
    "    }\n",
    "Perform the following operations:\n",
    "\n",
    "a. Add a key to commodity called 'natural gas'.\n",
    "\n",
    "b. Set the value of 'natural gas' to be a list consisting of the strings 'H1', 'H2', and 'H3'.\n",
    "\n",
    "c. Sort the items in the list stored under the 'soybean' key in alphabetical order (Make sure the new ordering is updated in the dictionary \"commodity\"). \n",
    "\n",
    "d. Remove ('upper grade') from the list of items stored under the 'copper' key.\n",
    "\n",
    "e. Add the number 50 to the number stored under the 'oil' key (to get 551)."
   ]
  },
  {
   "cell_type": "code",
   "execution_count": null,
   "metadata": {
    "collapsed": true
   },
   "outputs": [],
   "source": []
  },
  {
   "cell_type": "code",
   "execution_count": null,
   "metadata": {
    "collapsed": true
   },
   "outputs": [],
   "source": []
  },
  {
   "cell_type": "code",
   "execution_count": null,
   "metadata": {
    "collapsed": true
   },
   "outputs": [],
   "source": []
  },
  {
   "cell_type": "markdown",
   "metadata": {},
   "source": [
    "### Problem 8. (10 points)\n",
    "\n",
    "Write a piece of code to print the lyrics of the song “Old MacDonald.”. Your program should print the lyrics for three different animals, similar to the example verse below. (Hint: iterate over (cow,moo), (duck,quack), (pig, oink) using dicts )\n",
    "\n",
    "    Old MacDonald had a farm, Ee-igh, Ee-igh, Oh! \n",
    "    And on that farm he had a cow, Ee-igh, Ee-igh, Oh! \n",
    "    With a moo, moo here and a moo, moo there. \n",
    "    Here a moo, there a moo, everywhere a moo, moo. \n",
    "    Old MacDonald had a farm, Ee-igh, Ee-igh, Oh!"
   ]
  },
  {
   "cell_type": "code",
   "execution_count": null,
   "metadata": {
    "collapsed": true
   },
   "outputs": [],
   "source": []
  },
  {
   "cell_type": "code",
   "execution_count": null,
   "metadata": {
    "collapsed": true
   },
   "outputs": [],
   "source": []
  },
  {
   "cell_type": "code",
   "execution_count": null,
   "metadata": {
    "collapsed": true
   },
   "outputs": [],
   "source": []
  },
  {
   "cell_type": "code",
   "execution_count": null,
   "metadata": {
    "collapsed": true
   },
   "outputs": [],
   "source": []
  },
  {
   "cell_type": "markdown",
   "metadata": {},
   "source": [
    "---\n",
    "# Part II. "
   ]
  },
  {
   "cell_type": "markdown",
   "metadata": {},
   "source": [
    "### Problem 9. (10 points)\n",
    "\n",
    "We know that money deposited in a bank account earns interest, and this interest accumulates as the years pass. The amount of money $Principle_{t}$ in each year $t$ follows the specification: \n",
    "\n",
    "$Principle_{t}=Principle_{t-1}*(1+interest)$\n",
    "\n",
    "where $interest$ denotes the annual percentage rate expressed as a decimal number. \n",
    "\n",
    "Now write an function to determine the future value of an investment. There are 3 inputs in the function: the amount of the investment, the annualized interest rate, and the number of years of the investment. \n",
    "\n",
    "a. Evaluate the function for the following parameters: interest=0.1, number of years=7, and initial principal = 2000.\n",
    "\n",
    "b. Evaluate the function for 5 values of the interest rate {.01,.03,.05,.08,.1} (assume that number of years=7, and initial principal = 2000)"
   ]
  },
  {
   "cell_type": "code",
   "execution_count": null,
   "metadata": {
    "collapsed": true
   },
   "outputs": [],
   "source": []
  },
  {
   "cell_type": "code",
   "execution_count": null,
   "metadata": {
    "collapsed": true
   },
   "outputs": [],
   "source": []
  },
  {
   "cell_type": "code",
   "execution_count": null,
   "metadata": {
    "collapsed": true
   },
   "outputs": [],
   "source": []
  },
  {
   "cell_type": "code",
   "execution_count": null,
   "metadata": {
    "collapsed": true
   },
   "outputs": [],
   "source": []
  },
  {
   "cell_type": "markdown",
   "metadata": {},
   "source": [
    "### Problem 10. (10 points)\n",
    "\n",
    "Write your own function called `my_corr` which will compute the correlation coefficient of two arrays. The sample correlation coefficient between arrays x and y is defined as\n",
    "\n",
    "$\\frac{\\sum_{i=1}^{n}\\left(x_{i}-\\bar{x}\\right)\\left(y_{i}-\\bar{y}\\right)}{\\sqrt{\\sum_{i=1}^{n}\\left(x_{i}-\\bar{x}\\right)^{2}\\sum_{i=1}^{n}\\left(y_{i}-\\bar{y}\\right)^{2}}}$\n",
    "\n",
    "where $x$ and $y$ are both (nx1) arrays, and i=1,2,3,...,n and $\\bar{x}$ and $\\bar{y}$ are the sample means of $x$ and $y$ respectively.\n",
    "\n",
    "\n",
    "Your function should take (nx1) arrays for x and y as inputs and compute the correlation as the output.\n",
    "\n",
    "You can check your function using numbers from the \"math is fun\" web site: https://www.mathsisfun.com/data/correlation.html\n",
    "\n"
   ]
  },
  {
   "cell_type": "code",
   "execution_count": null,
   "metadata": {
    "collapsed": true
   },
   "outputs": [],
   "source": []
  },
  {
   "cell_type": "code",
   "execution_count": null,
   "metadata": {
    "collapsed": true
   },
   "outputs": [],
   "source": []
  },
  {
   "cell_type": "code",
   "execution_count": null,
   "metadata": {
    "collapsed": true
   },
   "outputs": [],
   "source": []
  },
  {
   "cell_type": "code",
   "execution_count": null,
   "metadata": {
    "collapsed": true
   },
   "outputs": [],
   "source": []
  },
  {
   "cell_type": "markdown",
   "metadata": {},
   "source": [
    "---\n",
    "# Part III. House Prices\n",
    "\n",
    "### Problem 11. (30 points)\n",
    "\n"
   ]
  },
  {
   "cell_type": "markdown",
   "metadata": {},
   "source": [
    "a. Load the data `housing_price.csv`."
   ]
  },
  {
   "cell_type": "code",
   "execution_count": null,
   "metadata": {
    "collapsed": true
   },
   "outputs": [],
   "source": []
  },
  {
   "cell_type": "code",
   "execution_count": null,
   "metadata": {
    "collapsed": true
   },
   "outputs": [],
   "source": []
  },
  {
   "cell_type": "markdown",
   "metadata": {},
   "source": [
    "b. Select the following variables: `Rooms`, `Type`, `Price`, `Distance`, `Bathroom`, `Bedroom2`. Call the new dataframe \"df\"."
   ]
  },
  {
   "cell_type": "code",
   "execution_count": null,
   "metadata": {
    "collapsed": true
   },
   "outputs": [],
   "source": []
  },
  {
   "cell_type": "code",
   "execution_count": null,
   "metadata": {
    "collapsed": true
   },
   "outputs": [],
   "source": []
  },
  {
   "cell_type": "code",
   "execution_count": null,
   "metadata": {
    "collapsed": true
   },
   "outputs": [],
   "source": []
  },
  {
   "cell_type": "markdown",
   "metadata": {},
   "source": [
    "c. Display a table of  descriptive statistics of all the variables with numeric values."
   ]
  },
  {
   "cell_type": "code",
   "execution_count": null,
   "metadata": {
    "collapsed": true
   },
   "outputs": [],
   "source": []
  },
  {
   "cell_type": "code",
   "execution_count": null,
   "metadata": {
    "collapsed": true
   },
   "outputs": [],
   "source": []
  },
  {
   "cell_type": "code",
   "execution_count": null,
   "metadata": {
    "collapsed": true
   },
   "outputs": [],
   "source": []
  },
  {
   "cell_type": "markdown",
   "metadata": {},
   "source": [
    "d. Plot in a scatter figure the variable `Rooms` (number of rooms) in the x-axis against `Price` in the y-axis."
   ]
  },
  {
   "cell_type": "code",
   "execution_count": null,
   "metadata": {
    "collapsed": true
   },
   "outputs": [],
   "source": []
  },
  {
   "cell_type": "code",
   "execution_count": null,
   "metadata": {
    "collapsed": true
   },
   "outputs": [],
   "source": []
  },
  {
   "cell_type": "markdown",
   "metadata": {},
   "source": [
    "e. Create a graph with 4 subplots, 2 rows and 2 columns. In each subplot use an histogram to show the distribution of `Bathroom`, `Distance`, `Price`, `Rooms` separately. Please set the title for each subplot."
   ]
  },
  {
   "cell_type": "code",
   "execution_count": null,
   "metadata": {
    "collapsed": true
   },
   "outputs": [],
   "source": []
  },
  {
   "cell_type": "code",
   "execution_count": null,
   "metadata": {
    "collapsed": true
   },
   "outputs": [],
   "source": []
  },
  {
   "cell_type": "markdown",
   "metadata": {},
   "source": [
    "f. Display a table with average values for the variables `Price` and `Rooms` for different types of house. "
   ]
  },
  {
   "cell_type": "code",
   "execution_count": null,
   "metadata": {
    "collapsed": true
   },
   "outputs": [],
   "source": []
  },
  {
   "cell_type": "code",
   "execution_count": null,
   "metadata": {
    "collapsed": true
   },
   "outputs": [],
   "source": []
  },
  {
   "cell_type": "markdown",
   "metadata": {},
   "source": [
    "g. Generate a variable for the logarithm of price and run a regression of log price on the number of rooms `Rooms` and a constant term. Please show in a table your estimates. "
   ]
  },
  {
   "cell_type": "code",
   "execution_count": null,
   "metadata": {
    "collapsed": true
   },
   "outputs": [],
   "source": []
  },
  {
   "cell_type": "code",
   "execution_count": null,
   "metadata": {
    "collapsed": true
   },
   "outputs": [],
   "source": []
  },
  {
   "cell_type": "code",
   "execution_count": null,
   "metadata": {
    "collapsed": true
   },
   "outputs": [],
   "source": []
  },
  {
   "cell_type": "code",
   "execution_count": null,
   "metadata": {
    "collapsed": true
   },
   "outputs": [],
   "source": []
  }
 ],
 "metadata": {
  "kernelspec": {
   "display_name": "Python 3",
   "language": "python",
   "name": "python3"
  },
  "language_info": {
   "codemirror_mode": {
    "name": "ipython",
    "version": 3
   },
   "file_extension": ".py",
   "mimetype": "text/x-python",
   "name": "python",
   "nbconvert_exporter": "python",
   "pygments_lexer": "ipython3",
   "version": "3.6.3"
  }
 },
 "nbformat": 4,
 "nbformat_minor": 2
}
