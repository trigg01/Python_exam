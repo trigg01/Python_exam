{
 "cells": [
  {
   "cell_type": "markdown",
   "metadata": {},
   "source": [
    "# Exam GRA 4142"
   ]
  },
  {
   "cell_type": "markdown",
   "metadata": {},
   "source": [
    "### Add group members here:\n",
    "\n",
    "ID 1: 0986427\n",
    "\n",
    "ID 2: 0981694\n",
    "\n",
    "ID 3: 0984690\n",
    "    "
   ]
  },
  {
   "cell_type": "markdown",
   "metadata": {},
   "source": [
    "# Instructions\n",
    "\n",
    "The exam consists of three parts and eleven problems. To make it more readable the exam is divided in several small questions. The answers should not be more than a few lines of coding (of course there may be more than one solution method). \n",
    "\n",
    "Please write your code and execute each line in the notebook. You may add comments to your code if neccessary. (Make sure you don't print out long dataframes. Be concise. )\n",
    "\n",
    "You can work in groups of up to three students. Please rename this python file as `Exam4142_Group_Num#.ipynb` where you should replace `#` by the number of students in your group. Please, also write in the exam the ID number for each student in the group. \n"
   ]
  },
  {
   "cell_type": "markdown",
   "metadata": {},
   "source": [
    "# Part I. "
   ]
  },
  {
   "cell_type": "markdown",
   "metadata": {},
   "source": [
    "### Problem 1.  (5 points)\n",
    "Take the following Python code that stores a string:\n",
    "\n",
    "    my_str = 'X-DSPAM-Confidence:0.8475'\n",
    "\n",
    "Use `find` and string slicing to extract the portion of the string after the colon character and then convert the extracted string into a floating point number. Please print a line of text as follows:\n",
    "\n",
    "    I find a number, 0.8475, in the string.\n"
   ]
  },
  {
   "cell_type": "code",
   "execution_count": 1,
   "metadata": {},
   "outputs": [
    {
     "name": "stdout",
     "output_type": "stream",
     "text": [
      "I find a number, 0.8475, in the string.\n"
     ]
    }
   ],
   "source": [
    "my_str = 'X-DSPAM-Confidence:0.8475'\n",
    "my_str.find(':')\n",
    "my_str[19:]\n",
    "print('I find a number, ' + my_str[19:] + ', in the string.')"
   ]
  },
  {
   "cell_type": "markdown",
   "metadata": {},
   "source": [
    "### Problem 2. (5 points)\n",
    "\n",
    "Consider the following two strings:\n",
    "\n",
    "    s1 = \"spam\"\n",
    "    s2 = \"ni!\"\n",
    "    \n",
    "Write a Python code, that perform string operations on `s1` and `s2`, and produces the following outcome:\n",
    " \n",
    "\n",
    "a. \"NI\"\n",
    "\n",
    "b. \"ni!spamni!\"\n",
    "\n",
    "c. \"Spam Ni! Spam Ni! Spam Ni!\" \n",
    "\n",
    "d. \"maps\"\n",
    "\n",
    "e. [\"sp\",\"m\"]\n",
    "\n",
    "f. \"spm\"\n"
   ]
  },
  {
   "cell_type": "code",
   "execution_count": 2,
   "metadata": {},
   "outputs": [],
   "source": [
    "s1 = \"spam\"\n",
    "s2 = \"ni!\""
   ]
  },
  {
   "cell_type": "code",
   "execution_count": 47,
   "metadata": {},
   "outputs": [
    {
     "data": {
      "text/plain": [
       "'NI'"
      ]
     },
     "execution_count": 47,
     "metadata": {},
     "output_type": "execute_result"
    }
   ],
   "source": [
    "# Part a\n",
    "s2[0:2].upper()"
   ]
  },
  {
   "cell_type": "code",
   "execution_count": 48,
   "metadata": {},
   "outputs": [
    {
     "data": {
      "text/plain": [
       "'ni!spamni!'"
      ]
     },
     "execution_count": 48,
     "metadata": {},
     "output_type": "execute_result"
    }
   ],
   "source": [
    "# Part b\n",
    "s2+s1+s2"
   ]
  },
  {
   "cell_type": "code",
   "execution_count": 3,
   "metadata": {},
   "outputs": [
    {
     "data": {
      "text/plain": [
       "'Spam Ni! Spam Ni! Spam Ni! '"
      ]
     },
     "execution_count": 3,
     "metadata": {},
     "output_type": "execute_result"
    }
   ],
   "source": [
    "# Part c\n",
    "(s1.capitalize() + \" \" + s2.capitalize() + \" \")*3"
   ]
  },
  {
   "cell_type": "code",
   "execution_count": 50,
   "metadata": {},
   "outputs": [
    {
     "data": {
      "text/plain": [
       "'maps'"
      ]
     },
     "execution_count": 50,
     "metadata": {},
     "output_type": "execute_result"
    }
   ],
   "source": [
    "# Part d\n",
    "s1[::-1]"
   ]
  },
  {
   "cell_type": "code",
   "execution_count": 52,
   "metadata": {},
   "outputs": [
    {
     "name": "stdout",
     "output_type": "stream",
     "text": [
      "['sp', 'm']\n"
     ]
    }
   ],
   "source": [
    "# Part e\n",
    "q_e = [s1[0:2], s1[3]]\n",
    "print(q_e)"
   ]
  },
  {
   "cell_type": "code",
   "execution_count": 53,
   "metadata": {},
   "outputs": [
    {
     "data": {
      "text/plain": [
       "'spm'"
      ]
     },
     "execution_count": 53,
     "metadata": {},
     "output_type": "execute_result"
    }
   ],
   "source": [
    "# Part f\n",
    "s1[0]+s1[1]+s1[3]"
   ]
  },
  {
   "cell_type": "markdown",
   "metadata": {},
   "source": [
    "### Problem 3. (5 points)\n",
    "A professor gives 5-point quizzes that are graded on the scale 5-A, 4-B, 3-C, 2-D, 1- F, 0-F. Write a program that accepts a quiz score as an input and prints out the corresponding grade. For example: if the point-score is 4, the code should give 'B' as answer."
   ]
  },
  {
   "cell_type": "code",
   "execution_count": 85,
   "metadata": {},
   "outputs": [
    {
     "name": "stdout",
     "output_type": "stream",
     "text": [
      "Enter quiz score: 5\n",
      "A\n"
     ]
    }
   ],
   "source": [
    "quiz_score = input(\"Enter quiz score: \")\n",
    "\n",
    "try: \n",
    "    if float(quiz_score)>4 and float(quiz_score)<=5:\n",
    "        print(\"A\")\n",
    "    elif float(quiz_score)>3 and float(quiz_score)<=4:\n",
    "        print(\"B\")\n",
    "    elif float(quiz_score)>2 and float(quiz_score)<=3:\n",
    "        print(\"C\")\n",
    "    elif float(quiz_score)>1 and float(quiz_score)<=2:\n",
    "        print(\"D\")\n",
    "    elif float(quiz_score)<=1 and float(quiz_score)>=0:\n",
    "        print(\"F\")\n",
    "    elif float(quiz_score)>5:\n",
    "        print(\"The score is too high. Please try again.\")\n",
    "except: \n",
    "    print(\"Invalid input, please enter your quiz score.\")\n",
    "        "
   ]
  },
  {
   "cell_type": "markdown",
   "metadata": {},
   "source": [
    "### Problem 4. (5 points)\n",
    "The body mass index (BMI) is calculated as a person’s weight (in kilograms), divided by the square of the person’s height (in metres). A BMI in the range 19–25, inclusive, is considered healthy. Write a program that calculates a person’s BMI and prints a message telling whether they are above, within, or below the healthy range.\n",
    "\n"
   ]
  },
  {
   "cell_type": "code",
   "execution_count": 7,
   "metadata": {},
   "outputs": [
    {
     "name": "stdout",
     "output_type": "stream",
     "text": [
      "Please enter your weight in kilograms: 85\n",
      "Please enter your height in metres: 1.86\n",
      "Your BMI is: 24.569  This is in the healthy range\n"
     ]
    }
   ],
   "source": [
    "weight = input(\"Please enter your weight in kilograms: \")\n",
    "height = input(\"Please enter your height in metres: \")\n",
    "bmi = float(weight)/float(height)**2\n",
    "\n",
    "if 19 <= float(bmi) <= 25 :\n",
    "    print(\"Your BMI is:\", round(bmi,3), \" This is in the healthy range\")\n",
    "elif 0 <= float(bmi) < 19:\n",
    "     print(\"Your BMI is:\", round(bmi,3), \" This is below the healthy range\")\n",
    "elif float(bmi) < 0:\n",
    "    print(\"A negative bmi is not possible, did you enter the correct inputs?\")\n",
    "else:\n",
    "    print(\"Your BMI is:\", round(bmi,3), \" This is above the healthy range\")"
   ]
  },
  {
   "cell_type": "code",
   "execution_count": null,
   "metadata": {
    "collapsed": true
   },
   "outputs": [],
   "source": []
  },
  {
   "cell_type": "markdown",
   "metadata": {},
   "source": [
    "### Problem 5. (8 points)\n",
    "Initialize a list containing the following elements: 4, 3.1415, 1.0, 'Hello', and 'World'. Then, do the following:\n",
    "\n",
    "a. Delete 1.0 assuming you know the position on the list? What if you didn’t know its position? \n",
    "\n",
    "b. Append the elements 1.5, 4, 'Hello' to the existing list, to get an extended list as follows:\n",
    "\n",
    "    [4,3.1415,1.0,'Hello','World',1.5, 4, 'Hello']\n",
    "\n",
    "c. Arrange the list in reverse order.\n",
    "\n",
    "d. Count the occurrence of 'Hello' in the extended list."
   ]
  },
  {
   "cell_type": "code",
   "execution_count": 55,
   "metadata": {},
   "outputs": [
    {
     "name": "stdout",
     "output_type": "stream",
     "text": [
      "[4, 3.1415, 'Hello', 'World']\n"
     ]
    }
   ],
   "source": [
    "# Part a\n",
    "# if you know the position\n",
    "prob5 = [4, 3.1415, 1.0, 'Hello', 'World']\n",
    "del(prob5[2])\n",
    "print(prob5)"
   ]
  },
  {
   "cell_type": "code",
   "execution_count": 74,
   "metadata": {},
   "outputs": [
    {
     "name": "stdout",
     "output_type": "stream",
     "text": [
      "[4, 3.1415, 'Hello', 'World']\n"
     ]
    }
   ],
   "source": [
    "# Part a - continued\n",
    "# if you do not know the position\n",
    "prob5 = [4, 3.1415, 1.0, 'Hello', 'World']\n",
    "prob5.remove(1.0)\n",
    "print(prob5)"
   ]
  },
  {
   "cell_type": "code",
   "execution_count": 75,
   "metadata": {},
   "outputs": [
    {
     "name": "stdout",
     "output_type": "stream",
     "text": [
      "[4, 3.1415, 1.0, 'Hello', 'World', 1.5, 4, 'Hello']\n"
     ]
    }
   ],
   "source": [
    "# Part b\n",
    "prob5 = [4, 3.1415, 1.0, 'Hello', 'World']\n",
    "prob5.extend((1.5, 4, 'Hello'))\n",
    "print(prob5)"
   ]
  },
  {
   "cell_type": "code",
   "execution_count": 58,
   "metadata": {},
   "outputs": [
    {
     "data": {
      "text/plain": [
       "['Hello', 4, 1.5, 'World', 'Hello', 1.0, 3.1415, 4]"
      ]
     },
     "execution_count": 58,
     "metadata": {},
     "output_type": "execute_result"
    }
   ],
   "source": [
    "# Part c\n",
    "prob5.reverse()\n",
    "prob5"
   ]
  },
  {
   "cell_type": "code",
   "execution_count": 59,
   "metadata": {},
   "outputs": [
    {
     "data": {
      "text/plain": [
       "2"
      ]
     },
     "execution_count": 59,
     "metadata": {},
     "output_type": "execute_result"
    }
   ],
   "source": [
    "# Part d\n",
    "prob5.count('Hello')"
   ]
  },
  {
   "cell_type": "markdown",
   "metadata": {},
   "source": [
    "### Problem 6. (6 points)\n",
    "Ask the user to enter 5 test scores with numerical value between 0 and 100 (integers). Write a program to do the following after all the scores have been entered:\n",
    "\n",
    "a. Print out the highest and lowest scores.\n",
    "\n",
    "b. Print out the average of the scores.\n",
    "\n",
    "c. Print out the second largest score.\n"
   ]
  },
  {
   "cell_type": "code",
   "execution_count": 86,
   "metadata": {},
   "outputs": [
    {
     "name": "stdout",
     "output_type": "stream",
     "text": [
      "Enter an integer between 0 and 100: 74\n",
      "Enter an integer between 0 and 100: 25\n",
      "Enter an integer between 0 and 100: 99\n",
      "Enter an integer between 0 and 100: 100\n",
      "Enter an integer between 0 and 100: 3\n",
      "Highest score: 100\n",
      "Lowest score: 3\n",
      "Average score: 60.2\n",
      "Second largest score: 99\n"
     ]
    }
   ],
   "source": [
    "count_num = 0\n",
    "a_list = []\n",
    "\n",
    "\n",
    "while True:\n",
    "    try:\n",
    "        num = int(input(\"Enter an integer between 0 and 100: \"))\n",
    "        if 0 <= num and num <=100:\n",
    "            count_num += 1\n",
    "            a_list.append(int(num))\n",
    "            if len(a_list) == 5:\n",
    "                break\n",
    "        else:\n",
    "            print(\"Invalid value. Please enter a valid integer between 0 and 100.\")\n",
    "    \n",
    "    except:\n",
    "        print(\"Invalid  value, please try again.\")\n",
    "                     \n",
    "print(\"Highest score:\",max(a_list))\n",
    "print(\"Lowest score:\",min(a_list))\n",
    "print(\"Average score:\", sum(a_list)/len(a_list))\n",
    "print(\"Second largest score:\",sorted(a_list)[-2])"
   ]
  },
  {
   "cell_type": "markdown",
   "metadata": {},
   "source": [
    "### Problem 7. (6 points)\n",
    "\n",
    "Consider the following dictionary:\n",
    "\n",
    "    commodity = {\n",
    "        'oil' : 501,\n",
    "        'copper' : ['upper grade', 'lower grade'],\n",
    "        'soybean' : ['asia','south america', 'north america']\n",
    "    }\n",
    "Perform the following operations:\n",
    "\n",
    "a. Add a key to commodity called 'natural gas'.\n",
    "\n",
    "b. Set the value of 'natural gas' to be a list consisting of the strings 'H1', 'H2', and 'H3'.\n",
    "\n",
    "c. Sort the items in the list stored under the 'soybean' key in alphabetical order (Make sure the new ordering is updated in the dictionary \"commodity\"). \n",
    "\n",
    "d. Remove ('upper grade') from the list of items stored under the 'copper' key.\n",
    "\n",
    "e. Add the number 50 to the number stored under the 'oil' key (to get 551)."
   ]
  },
  {
   "cell_type": "code",
   "execution_count": 43,
   "metadata": {},
   "outputs": [
    {
     "data": {
      "text/plain": [
       "{'oil': 501,\n",
       " 'copper': ['upper grade', 'lower grade'],\n",
       " 'soybean': ['asia', 'south america', 'north america'],\n",
       " 'natural gas': ['H1', 'H2', 'H3']}"
      ]
     },
     "execution_count": 43,
     "metadata": {},
     "output_type": "execute_result"
    }
   ],
   "source": [
    "# Part a + b\n",
    "commodity = {'oil': 501, 'copper': ['upper grade', 'lower grade'], 'soybean': ['asia', 'south america', 'north america']}\n",
    "commodity['natural gas'] = ['H1', 'H2', 'H3']\n",
    "commodity"
   ]
  },
  {
   "cell_type": "code",
   "execution_count": 41,
   "metadata": {},
   "outputs": [
    {
     "data": {
      "text/plain": [
       "{'oil': 551,\n",
       " 'copper': ['lower grade'],\n",
       " 'soybean': ['asia', 'north america', 'south america'],\n",
       " 'natural gas': ['H1', 'H2', 'H3']}"
      ]
     },
     "execution_count": 41,
     "metadata": {},
     "output_type": "execute_result"
    }
   ],
   "source": [
    "# Part c  \n",
    "commodity[\"soybean\"].sort()\n",
    "commodity"
   ]
  },
  {
   "cell_type": "code",
   "execution_count": 44,
   "metadata": {},
   "outputs": [
    {
     "data": {
      "text/plain": [
       "{'oil': 501,\n",
       " 'copper': ['lower grade'],\n",
       " 'soybean': ['asia', 'south america', 'north america'],\n",
       " 'natural gas': ['H1', 'H2', 'H3']}"
      ]
     },
     "execution_count": 44,
     "metadata": {},
     "output_type": "execute_result"
    }
   ],
   "source": [
    "# Part d \n",
    "commodity[\"copper\"].remove(\"upper grade\")\n",
    "commodity"
   ]
  },
  {
   "cell_type": "code",
   "execution_count": 45,
   "metadata": {},
   "outputs": [
    {
     "data": {
      "text/plain": [
       "{'oil': 551,\n",
       " 'copper': ['lower grade'],\n",
       " 'soybean': ['asia', 'south america', 'north america'],\n",
       " 'natural gas': ['H1', 'H2', 'H3']}"
      ]
     },
     "execution_count": 45,
     "metadata": {},
     "output_type": "execute_result"
    }
   ],
   "source": [
    "# Part e \n",
    "commodity['oil'] += 50\n",
    "commodity"
   ]
  },
  {
   "cell_type": "markdown",
   "metadata": {},
   "source": [
    "### Problem 8. (10 points)\n",
    "\n",
    "Write a piece of code to print the lyrics of the song “Old MacDonald.”. Your program should print the lyrics for three different animals, similar to the example verse below. (Hint: iterate over (cow,moo), (duck,quack), (pig, oink) using dicts )\n",
    "\n",
    "    Old MacDonald had a farm, Ee-igh, Ee-igh, Oh! \n",
    "    And on that farm he had a cow, Ee-igh, Ee-igh, Oh! \n",
    "    With a moo, moo here and a moo, moo there. \n",
    "    Here a moo, there a moo, everywhere a moo, moo. \n",
    "    Old MacDonald had a farm, Ee-igh, Ee-igh, Oh!"
   ]
  },
  {
   "cell_type": "code",
   "execution_count": 14,
   "metadata": {},
   "outputs": [
    {
     "name": "stdout",
     "output_type": "stream",
     "text": [
      "Old Macdonald had a farm, Ee-igh, Ee-igh, Oh!\n",
      "And on that farm he had a cow, Ee-igh, Ee-igh, Oh! \n",
      "With a  moo, moo  here and a  moo, moo  there.\n",
      "Here a  moo, there a  moo, everywhere a  moo, moo .\n",
      "Old Macdonald had a farm, Ee-igh, Ee-igh, Oh!\n",
      "\n",
      "Old Macdonald had a farm, Ee-igh, Ee-igh, Oh!\n",
      "And on that farm he had a duck, Ee-igh, Ee-igh, Oh! \n",
      "With a  quack, quack  here and a  quack, quack  there.\n",
      "Here a  quack, there a  quack, everywhere a  quack, quack .\n",
      "Old Macdonald had a farm, Ee-igh, Ee-igh, Oh!\n",
      "\n",
      "Old Macdonald had a farm, Ee-igh, Ee-igh, Oh!\n",
      "And on that farm he had a pig, Ee-igh, Ee-igh, Oh! \n",
      "With a  oink, oink  here and a  oink, oink  there.\n",
      "Here a  oink, there a  oink, everywhere a  oink, oink .\n",
      "Old Macdonald had a farm, Ee-igh, Ee-igh, Oh!\n",
      "\n"
     ]
    }
   ],
   "source": [
    "animals = {\n",
    "            \"cow\":\"moo\",\n",
    "            \"duck\":\"quack\",\n",
    "            \"pig\":\"oink\"\n",
    "    }\n",
    "def chorus() : \n",
    "    print(\"Old Macdonald had a farm, Ee-igh, Ee-igh, Oh!\" )\n",
    "for x in animals:\n",
    "    chorus()\n",
    "    print('And on that farm he had a', x+\",\"  ' Ee-igh, Ee-igh, Oh! \\n' \n",
    "          'With a ', animals[x]+',',animals[x], ' here and a ' , animals[x]+\",\",animals[x], ' there' '.\\n'\n",
    "            'Here a ', animals[x]+\",\" ' there a ', animals[x]+\",\" ' everywhere a ',animals[x]+\",\", animals[x],'.')\n",
    "    chorus()\n",
    "    print()"
   ]
  },
  {
   "cell_type": "markdown",
   "metadata": {},
   "source": [
    "---\n",
    "# Part II. "
   ]
  },
  {
   "cell_type": "markdown",
   "metadata": {},
   "source": [
    "### Problem 9. (10 points)\n",
    "\n",
    "We know that money deposited in a bank account earns interest, and this interest accumulates as the years pass. The amount of money $Principle_{t}$ in each year $t$ follows the specification: \n",
    "\n",
    "$Principle_{t}=Principle_{t-1}*(1+interest)$\n",
    "\n",
    "where $interest$ denotes the annual percentage rate expressed as a decimal number. \n",
    "\n",
    "Now write an function to determine the future value of an investment. There are 3 inputs in the function: the amount of the investment, the annualized interest rate, and the number of years of the investment. \n",
    "\n",
    "a. Evaluate the function for the following parameters: interest=0.1, number of years=7, and initial principal = 2000.\n",
    "\n",
    "b. Evaluate the function for 5 values of the interest rate {.01,.03,.05,.08,.1} (assume that number of years=7, and initial principal = 2000)"
   ]
  },
  {
   "cell_type": "code",
   "execution_count": 63,
   "metadata": {},
   "outputs": [],
   "source": [
    "def FV_Calc(principle, annual_interest, years_to_invest):\n",
    "    fv = float(principle) * ((1 + float(annual_interest)) ** float(years_to_invest))\n",
    "    print(\"If you invest\", principle, \"for\", years_to_invest, \"years at an interest rate of\", annual_interest,\n",
    "          \"the value of your investment would be\", round(fv,3))"
   ]
  },
  {
   "cell_type": "code",
   "execution_count": 64,
   "metadata": {},
   "outputs": [
    {
     "name": "stdout",
     "output_type": "stream",
     "text": [
      "If you invest 2000 for 7 years at an interest rate of 0.1 the value of your investment would be 3897.434\n"
     ]
    }
   ],
   "source": [
    "# Part a\n",
    "FV_Calc(2000,0.1,7)"
   ]
  },
  {
   "cell_type": "code",
   "execution_count": 66,
   "metadata": {},
   "outputs": [
    {
     "name": "stdout",
     "output_type": "stream",
     "text": [
      "If you invest 2000 for 7 years at an interest rate of 0.01 the value of your investment would be 2144.271\n"
     ]
    }
   ],
   "source": [
    "# Part B\n",
    "FV_Calc(2000, 0.01, 7)"
   ]
  },
  {
   "cell_type": "code",
   "execution_count": 67,
   "metadata": {},
   "outputs": [
    {
     "name": "stdout",
     "output_type": "stream",
     "text": [
      "If you invest 2000 for 7 years at an interest rate of 0.03 the value of your investment would be 2459.748\n"
     ]
    }
   ],
   "source": [
    "FV_Calc(2000, 0.03, 7)"
   ]
  },
  {
   "cell_type": "code",
   "execution_count": 68,
   "metadata": {},
   "outputs": [
    {
     "name": "stdout",
     "output_type": "stream",
     "text": [
      "If you invest 2000 for 7 years at an interest rate of 0.05 the value of your investment would be 2814.201\n"
     ]
    }
   ],
   "source": [
    "FV_Calc(2000, 0.05, 7)"
   ]
  },
  {
   "cell_type": "code",
   "execution_count": 69,
   "metadata": {},
   "outputs": [
    {
     "name": "stdout",
     "output_type": "stream",
     "text": [
      "If you invest 2000 for 7 years at an interest rate of 0.08 the value of your investment would be 3427.649\n"
     ]
    }
   ],
   "source": [
    "FV_Calc(2000, 0.08, 7)"
   ]
  },
  {
   "cell_type": "code",
   "execution_count": 70,
   "metadata": {},
   "outputs": [
    {
     "name": "stdout",
     "output_type": "stream",
     "text": [
      "If you invest 2000 for 7 years at an interest rate of 0.1 the value of your investment would be 3897.434\n"
     ]
    }
   ],
   "source": [
    "FV_Calc(2000, 0.1, 7)"
   ]
  },
  {
   "cell_type": "markdown",
   "metadata": {},
   "source": [
    "### Problem 10. (10 points)\n",
    "\n",
    "Write your own function called `my_corr` which will compute the correlation coefficient of two arrays. The sample correlation coefficient between arrays x and y is defined as\n",
    "\n",
    "$\\frac{\\sum_{i=1}^{n}\\left(x_{i}-\\bar{x}\\right)\\left(y_{i}-\\bar{y}\\right)}{\\sqrt{\\sum_{i=1}^{n}\\left(x_{i}-\\bar{x}\\right)^{2}\\sum_{i=1}^{n}\\left(y_{i}-\\bar{y}\\right)^{2}}}$\n",
    "\n",
    "where $x$ and $y$ are both (nx1) arrays, and i=1,2,3,...,n and $\\bar{x}$ and $\\bar{y}$ are the sample means of $x$ and $y$ respectively.\n",
    "\n",
    "\n",
    "Your function should take (nx1) arrays for x and y as inputs and compute the correlation as the output.\n",
    "\n",
    "You can check your function using numbers from the \"math is fun\" web site: https://www.mathsisfun.com/data/correlation.html\n",
    "\n"
   ]
  },
  {
   "cell_type": "code",
   "execution_count": 80,
   "metadata": {},
   "outputs": [],
   "source": [
    "import numpy as np\n",
    "x = np.array([14.2, 16.4, 11.9, 15.2, 18.5, 22.1, 19.4, 25.1, 23.4, 18.1, 22.6, 17.2])\n",
    "y = y = np.array([215, 325, 185, 332, 406, 522, 412, 614, 544, 421, 445, 408])"
   ]
  },
  {
   "cell_type": "code",
   "execution_count": 83,
   "metadata": {},
   "outputs": [],
   "source": [
    "def my_corr(x,y):\n",
    "    # Step 1, calculate mean for respective arrays\n",
    "    x_mean = np.sum(x)/len(x)\n",
    "    y_mean = np.sum(y)/len(y)\n",
    "    \n",
    "    # Step 2, subtract the mean from each observation\n",
    "    sub_mean_x = (x - x_mean)\n",
    "    sub_mean_y = (y - y_mean)\n",
    "    \n",
    "    # Step 3, product of arrays\n",
    "    x_and_y = sub_mean_x * sub_mean_y\n",
    "    \n",
    "    # Step 4, square respective arrays\n",
    "    x_sqrd = pow(sub_mean_x, 2)\n",
    "    y_sqrd = pow(sub_mean_y, 2)\n",
    "    \n",
    "    # Step 5, calculate correlation\n",
    "    r = (x_and_y.sum())/np.sqrt(x_sqrd.sum() * y_sqrd.sum())\n",
    "    \n",
    "    print(\"The correlation is:\", round(r,4))"
   ]
  },
  {
   "cell_type": "code",
   "execution_count": 84,
   "metadata": {},
   "outputs": [
    {
     "name": "stdout",
     "output_type": "stream",
     "text": [
      "The correlation is: 0.9575\n"
     ]
    }
   ],
   "source": [
    "my_corr(x,y)"
   ]
  },
  {
   "cell_type": "markdown",
   "metadata": {},
   "source": [
    "---\n",
    "# Part III. House Prices\n",
    "\n",
    "### Problem 11. (30 points)\n",
    "\n"
   ]
  },
  {
   "cell_type": "markdown",
   "metadata": {},
   "source": [
    "a. Load the data `housing_price.csv`."
   ]
  },
  {
   "cell_type": "code",
   "execution_count": 29,
   "metadata": {},
   "outputs": [],
   "source": [
    "import numpy as np\n",
    "import pandas as pd\n",
    "import matplotlib.pyplot as plt\n",
    "import statsmodels.api as sm"
   ]
  },
  {
   "cell_type": "code",
   "execution_count": 30,
   "metadata": {},
   "outputs": [
    {
     "data": {
      "text/html": [
       "<div>\n",
       "<style scoped>\n",
       "    .dataframe tbody tr th:only-of-type {\n",
       "        vertical-align: middle;\n",
       "    }\n",
       "\n",
       "    .dataframe tbody tr th {\n",
       "        vertical-align: top;\n",
       "    }\n",
       "\n",
       "    .dataframe thead th {\n",
       "        text-align: right;\n",
       "    }\n",
       "</style>\n",
       "<table border=\"1\" class=\"dataframe\">\n",
       "  <thead>\n",
       "    <tr style=\"text-align: right;\">\n",
       "      <th></th>\n",
       "      <th>Suburb</th>\n",
       "      <th>Address</th>\n",
       "      <th>Rooms</th>\n",
       "      <th>Type</th>\n",
       "      <th>Price</th>\n",
       "      <th>Method</th>\n",
       "      <th>SellerG</th>\n",
       "      <th>Date</th>\n",
       "      <th>Distance</th>\n",
       "      <th>Postcode</th>\n",
       "      <th>...</th>\n",
       "      <th>Bathroom</th>\n",
       "      <th>Car</th>\n",
       "      <th>Landsize</th>\n",
       "      <th>BuildingArea</th>\n",
       "      <th>YearBuilt</th>\n",
       "      <th>CouncilArea</th>\n",
       "      <th>Lattitude</th>\n",
       "      <th>Longtitude</th>\n",
       "      <th>Regionname</th>\n",
       "      <th>Propertycount</th>\n",
       "    </tr>\n",
       "  </thead>\n",
       "  <tbody>\n",
       "    <tr>\n",
       "      <th>0</th>\n",
       "      <td>Abbotsford</td>\n",
       "      <td>25 Bloomburg St</td>\n",
       "      <td>2</td>\n",
       "      <td>h</td>\n",
       "      <td>1035.0</td>\n",
       "      <td>S</td>\n",
       "      <td>Biggin</td>\n",
       "      <td>4/02/2016</td>\n",
       "      <td>2.5</td>\n",
       "      <td>3067</td>\n",
       "      <td>...</td>\n",
       "      <td>1.0</td>\n",
       "      <td>0.0</td>\n",
       "      <td>156.0</td>\n",
       "      <td>79.0</td>\n",
       "      <td>1900.0</td>\n",
       "      <td>Yarra City Council</td>\n",
       "      <td>-37.8079</td>\n",
       "      <td>144.9934</td>\n",
       "      <td>Northern Metropolitan</td>\n",
       "      <td>4019.0</td>\n",
       "    </tr>\n",
       "    <tr>\n",
       "      <th>1</th>\n",
       "      <td>Abbotsford</td>\n",
       "      <td>5 Charles St</td>\n",
       "      <td>3</td>\n",
       "      <td>h</td>\n",
       "      <td>1465.0</td>\n",
       "      <td>SP</td>\n",
       "      <td>Biggin</td>\n",
       "      <td>4/03/2017</td>\n",
       "      <td>2.5</td>\n",
       "      <td>3067</td>\n",
       "      <td>...</td>\n",
       "      <td>2.0</td>\n",
       "      <td>0.0</td>\n",
       "      <td>134.0</td>\n",
       "      <td>150.0</td>\n",
       "      <td>1900.0</td>\n",
       "      <td>Yarra City Council</td>\n",
       "      <td>-37.8093</td>\n",
       "      <td>144.9944</td>\n",
       "      <td>Northern Metropolitan</td>\n",
       "      <td>4019.0</td>\n",
       "    </tr>\n",
       "    <tr>\n",
       "      <th>2</th>\n",
       "      <td>Abbotsford</td>\n",
       "      <td>55a Park St</td>\n",
       "      <td>4</td>\n",
       "      <td>h</td>\n",
       "      <td>1600.0</td>\n",
       "      <td>VB</td>\n",
       "      <td>Nelson</td>\n",
       "      <td>4/06/2016</td>\n",
       "      <td>2.5</td>\n",
       "      <td>3067</td>\n",
       "      <td>...</td>\n",
       "      <td>1.0</td>\n",
       "      <td>2.0</td>\n",
       "      <td>120.0</td>\n",
       "      <td>142.0</td>\n",
       "      <td>2014.0</td>\n",
       "      <td>Yarra City Council</td>\n",
       "      <td>-37.8072</td>\n",
       "      <td>144.9941</td>\n",
       "      <td>Northern Metropolitan</td>\n",
       "      <td>4019.0</td>\n",
       "    </tr>\n",
       "    <tr>\n",
       "      <th>3</th>\n",
       "      <td>Abbotsford</td>\n",
       "      <td>124 Yarra St</td>\n",
       "      <td>3</td>\n",
       "      <td>h</td>\n",
       "      <td>1876.0</td>\n",
       "      <td>S</td>\n",
       "      <td>Nelson</td>\n",
       "      <td>7/05/2016</td>\n",
       "      <td>2.5</td>\n",
       "      <td>3067</td>\n",
       "      <td>...</td>\n",
       "      <td>2.0</td>\n",
       "      <td>0.0</td>\n",
       "      <td>245.0</td>\n",
       "      <td>210.0</td>\n",
       "      <td>1910.0</td>\n",
       "      <td>Yarra City Council</td>\n",
       "      <td>-37.8024</td>\n",
       "      <td>144.9993</td>\n",
       "      <td>Northern Metropolitan</td>\n",
       "      <td>4019.0</td>\n",
       "    </tr>\n",
       "    <tr>\n",
       "      <th>4</th>\n",
       "      <td>Abbotsford</td>\n",
       "      <td>98 Charles St</td>\n",
       "      <td>2</td>\n",
       "      <td>h</td>\n",
       "      <td>1636.0</td>\n",
       "      <td>S</td>\n",
       "      <td>Nelson</td>\n",
       "      <td>8/10/2016</td>\n",
       "      <td>2.5</td>\n",
       "      <td>3067</td>\n",
       "      <td>...</td>\n",
       "      <td>1.0</td>\n",
       "      <td>2.0</td>\n",
       "      <td>256.0</td>\n",
       "      <td>107.0</td>\n",
       "      <td>1890.0</td>\n",
       "      <td>Yarra City Council</td>\n",
       "      <td>-37.8060</td>\n",
       "      <td>144.9954</td>\n",
       "      <td>Northern Metropolitan</td>\n",
       "      <td>4019.0</td>\n",
       "    </tr>\n",
       "  </tbody>\n",
       "</table>\n",
       "<p>5 rows × 21 columns</p>\n",
       "</div>"
      ],
      "text/plain": [
       "       Suburb          Address  Rooms Type   Price Method SellerG       Date  \\\n",
       "0  Abbotsford  25 Bloomburg St      2    h  1035.0      S  Biggin  4/02/2016   \n",
       "1  Abbotsford     5 Charles St      3    h  1465.0     SP  Biggin  4/03/2017   \n",
       "2  Abbotsford      55a Park St      4    h  1600.0     VB  Nelson  4/06/2016   \n",
       "3  Abbotsford     124 Yarra St      3    h  1876.0      S  Nelson  7/05/2016   \n",
       "4  Abbotsford    98 Charles St      2    h  1636.0      S  Nelson  8/10/2016   \n",
       "\n",
       "   Distance  Postcode      ...       Bathroom  Car  Landsize  BuildingArea  \\\n",
       "0       2.5      3067      ...            1.0  0.0     156.0          79.0   \n",
       "1       2.5      3067      ...            2.0  0.0     134.0         150.0   \n",
       "2       2.5      3067      ...            1.0  2.0     120.0         142.0   \n",
       "3       2.5      3067      ...            2.0  0.0     245.0         210.0   \n",
       "4       2.5      3067      ...            1.0  2.0     256.0         107.0   \n",
       "\n",
       "   YearBuilt         CouncilArea Lattitude  Longtitude             Regionname  \\\n",
       "0     1900.0  Yarra City Council  -37.8079    144.9934  Northern Metropolitan   \n",
       "1     1900.0  Yarra City Council  -37.8093    144.9944  Northern Metropolitan   \n",
       "2     2014.0  Yarra City Council  -37.8072    144.9941  Northern Metropolitan   \n",
       "3     1910.0  Yarra City Council  -37.8024    144.9993  Northern Metropolitan   \n",
       "4     1890.0  Yarra City Council  -37.8060    144.9954  Northern Metropolitan   \n",
       "\n",
       "  Propertycount  \n",
       "0        4019.0  \n",
       "1        4019.0  \n",
       "2        4019.0  \n",
       "3        4019.0  \n",
       "4        4019.0  \n",
       "\n",
       "[5 rows x 21 columns]"
      ]
     },
     "execution_count": 30,
     "metadata": {},
     "output_type": "execute_result"
    }
   ],
   "source": [
    "housing = pd.read_csv('./housing_price.csv')\n",
    "housing.head()"
   ]
  },
  {
   "cell_type": "markdown",
   "metadata": {},
   "source": [
    "b. Select the following variables: `Rooms`, `Type`, `Price`, `Distance`, `Bathroom`, `Bedroom2`. Call the new dataframe \"df\"."
   ]
  },
  {
   "cell_type": "code",
   "execution_count": 32,
   "metadata": {},
   "outputs": [
    {
     "data": {
      "text/html": [
       "<div>\n",
       "<style scoped>\n",
       "    .dataframe tbody tr th:only-of-type {\n",
       "        vertical-align: middle;\n",
       "    }\n",
       "\n",
       "    .dataframe tbody tr th {\n",
       "        vertical-align: top;\n",
       "    }\n",
       "\n",
       "    .dataframe thead th {\n",
       "        text-align: right;\n",
       "    }\n",
       "</style>\n",
       "<table border=\"1\" class=\"dataframe\">\n",
       "  <thead>\n",
       "    <tr style=\"text-align: right;\">\n",
       "      <th></th>\n",
       "      <th>Rooms</th>\n",
       "      <th>Type</th>\n",
       "      <th>Price</th>\n",
       "      <th>Distance</th>\n",
       "      <th>Bathroom</th>\n",
       "      <th>Bathroom</th>\n",
       "      <th>Bedroom2</th>\n",
       "    </tr>\n",
       "  </thead>\n",
       "  <tbody>\n",
       "    <tr>\n",
       "      <th>0</th>\n",
       "      <td>2</td>\n",
       "      <td>h</td>\n",
       "      <td>1035.0</td>\n",
       "      <td>2.5</td>\n",
       "      <td>1.0</td>\n",
       "      <td>1.0</td>\n",
       "      <td>2.0</td>\n",
       "    </tr>\n",
       "    <tr>\n",
       "      <th>1</th>\n",
       "      <td>3</td>\n",
       "      <td>h</td>\n",
       "      <td>1465.0</td>\n",
       "      <td>2.5</td>\n",
       "      <td>2.0</td>\n",
       "      <td>2.0</td>\n",
       "      <td>3.0</td>\n",
       "    </tr>\n",
       "    <tr>\n",
       "      <th>2</th>\n",
       "      <td>4</td>\n",
       "      <td>h</td>\n",
       "      <td>1600.0</td>\n",
       "      <td>2.5</td>\n",
       "      <td>1.0</td>\n",
       "      <td>1.0</td>\n",
       "      <td>3.0</td>\n",
       "    </tr>\n",
       "    <tr>\n",
       "      <th>3</th>\n",
       "      <td>3</td>\n",
       "      <td>h</td>\n",
       "      <td>1876.0</td>\n",
       "      <td>2.5</td>\n",
       "      <td>2.0</td>\n",
       "      <td>2.0</td>\n",
       "      <td>4.0</td>\n",
       "    </tr>\n",
       "    <tr>\n",
       "      <th>4</th>\n",
       "      <td>2</td>\n",
       "      <td>h</td>\n",
       "      <td>1636.0</td>\n",
       "      <td>2.5</td>\n",
       "      <td>1.0</td>\n",
       "      <td>1.0</td>\n",
       "      <td>2.0</td>\n",
       "    </tr>\n",
       "  </tbody>\n",
       "</table>\n",
       "</div>"
      ],
      "text/plain": [
       "   Rooms Type   Price  Distance  Bathroom  Bathroom  Bedroom2\n",
       "0      2    h  1035.0       2.5       1.0       1.0       2.0\n",
       "1      3    h  1465.0       2.5       2.0       2.0       3.0\n",
       "2      4    h  1600.0       2.5       1.0       1.0       3.0\n",
       "3      3    h  1876.0       2.5       2.0       2.0       4.0\n",
       "4      2    h  1636.0       2.5       1.0       1.0       2.0"
      ]
     },
     "execution_count": 32,
     "metadata": {},
     "output_type": "execute_result"
    }
   ],
   "source": [
    "df = housing[['Rooms', 'Type', 'Price', 'Distance', 'Bathroom', 'Bathroom', 'Bedroom2']]\n",
    "df.head()"
   ]
  },
  {
   "cell_type": "markdown",
   "metadata": {},
   "source": [
    "c. Display a table of  descriptive statistics of all the variables with numeric values."
   ]
  },
  {
   "cell_type": "code",
   "execution_count": 33,
   "metadata": {},
   "outputs": [
    {
     "data": {
      "text/html": [
       "<div>\n",
       "<style scoped>\n",
       "    .dataframe tbody tr th:only-of-type {\n",
       "        vertical-align: middle;\n",
       "    }\n",
       "\n",
       "    .dataframe tbody tr th {\n",
       "        vertical-align: top;\n",
       "    }\n",
       "\n",
       "    .dataframe thead th {\n",
       "        text-align: right;\n",
       "    }\n",
       "</style>\n",
       "<table border=\"1\" class=\"dataframe\">\n",
       "  <thead>\n",
       "    <tr style=\"text-align: right;\">\n",
       "      <th></th>\n",
       "      <th>Rooms</th>\n",
       "      <th>Price</th>\n",
       "      <th>Distance</th>\n",
       "      <th>Bathroom</th>\n",
       "      <th>Bathroom</th>\n",
       "      <th>Bedroom2</th>\n",
       "    </tr>\n",
       "  </thead>\n",
       "  <tbody>\n",
       "    <tr>\n",
       "      <th>count</th>\n",
       "      <td>7996.000000</td>\n",
       "      <td>7996.000000</td>\n",
       "      <td>7996.000000</td>\n",
       "      <td>7996.000000</td>\n",
       "      <td>7996.000000</td>\n",
       "      <td>7996.000000</td>\n",
       "    </tr>\n",
       "    <tr>\n",
       "      <th>mean</th>\n",
       "      <td>3.041396</td>\n",
       "      <td>1088.133535</td>\n",
       "      <td>10.683442</td>\n",
       "      <td>1.626313</td>\n",
       "      <td>1.626313</td>\n",
       "      <td>3.017884</td>\n",
       "    </tr>\n",
       "    <tr>\n",
       "      <th>std</th>\n",
       "      <td>0.976734</td>\n",
       "      <td>680.791381</td>\n",
       "      <td>6.457401</td>\n",
       "      <td>0.728704</td>\n",
       "      <td>0.728704</td>\n",
       "      <td>0.978214</td>\n",
       "    </tr>\n",
       "    <tr>\n",
       "      <th>min</th>\n",
       "      <td>1.000000</td>\n",
       "      <td>131.000000</td>\n",
       "      <td>0.000000</td>\n",
       "      <td>1.000000</td>\n",
       "      <td>1.000000</td>\n",
       "      <td>0.000000</td>\n",
       "    </tr>\n",
       "    <tr>\n",
       "      <th>25%</th>\n",
       "      <td>2.000000</td>\n",
       "      <td>637.750000</td>\n",
       "      <td>6.300000</td>\n",
       "      <td>1.000000</td>\n",
       "      <td>1.000000</td>\n",
       "      <td>2.000000</td>\n",
       "    </tr>\n",
       "    <tr>\n",
       "      <th>50%</th>\n",
       "      <td>3.000000</td>\n",
       "      <td>897.250000</td>\n",
       "      <td>9.700000</td>\n",
       "      <td>2.000000</td>\n",
       "      <td>2.000000</td>\n",
       "      <td>3.000000</td>\n",
       "    </tr>\n",
       "    <tr>\n",
       "      <th>75%</th>\n",
       "      <td>4.000000</td>\n",
       "      <td>1340.000000</td>\n",
       "      <td>13.600000</td>\n",
       "      <td>2.000000</td>\n",
       "      <td>2.000000</td>\n",
       "      <td>4.000000</td>\n",
       "    </tr>\n",
       "    <tr>\n",
       "      <th>max</th>\n",
       "      <td>12.000000</td>\n",
       "      <td>9000.000000</td>\n",
       "      <td>48.100000</td>\n",
       "      <td>9.000000</td>\n",
       "      <td>9.000000</td>\n",
       "      <td>12.000000</td>\n",
       "    </tr>\n",
       "  </tbody>\n",
       "</table>\n",
       "</div>"
      ],
      "text/plain": [
       "             Rooms        Price     Distance     Bathroom     Bathroom  \\\n",
       "count  7996.000000  7996.000000  7996.000000  7996.000000  7996.000000   \n",
       "mean      3.041396  1088.133535    10.683442     1.626313     1.626313   \n",
       "std       0.976734   680.791381     6.457401     0.728704     0.728704   \n",
       "min       1.000000   131.000000     0.000000     1.000000     1.000000   \n",
       "25%       2.000000   637.750000     6.300000     1.000000     1.000000   \n",
       "50%       3.000000   897.250000     9.700000     2.000000     2.000000   \n",
       "75%       4.000000  1340.000000    13.600000     2.000000     2.000000   \n",
       "max      12.000000  9000.000000    48.100000     9.000000     9.000000   \n",
       "\n",
       "          Bedroom2  \n",
       "count  7996.000000  \n",
       "mean      3.017884  \n",
       "std       0.978214  \n",
       "min       0.000000  \n",
       "25%       2.000000  \n",
       "50%       3.000000  \n",
       "75%       4.000000  \n",
       "max      12.000000  "
      ]
     },
     "execution_count": 33,
     "metadata": {},
     "output_type": "execute_result"
    }
   ],
   "source": [
    "# We assume it is refered to the subeset df\n",
    "df.describe()"
   ]
  },
  {
   "cell_type": "markdown",
   "metadata": {},
   "source": [
    "d. Plot in a scatter figure the variable `Rooms` (number of rooms) in the x-axis against `Price` in the y-axis."
   ]
  },
  {
   "cell_type": "code",
   "execution_count": 34,
   "metadata": {},
   "outputs": [
    {
     "data": {
      "text/plain": [
       "Text(0,0.5,'Price')"
      ]
     },
     "execution_count": 34,
     "metadata": {},
     "output_type": "execute_result"
    },
    {
     "data": {
      "image/png": "[encoded data removed]",
      "text/plain": [
       "<Figure size 432x288 with 1 Axes>"
      ]
     },
     "metadata": {},
     "output_type": "display_data"
    }
   ],
   "source": [
    "plt.style.use('dark_background')\n",
    "\n",
    "fig, ax = plt.subplots()\n",
    "\n",
    "ax.scatter(df['Rooms'],df['Price'], color = 'plum')\n",
    "ax.set_title('Price and number of rooms')\n",
    "ax.set_xlabel('Number of rooms')\n",
    "ax.set_ylabel('Price')"
   ]
  },
  {
   "cell_type": "markdown",
   "metadata": {},
   "source": [
    "e. Create a graph with 4 subplots, 2 rows and 2 columns. In each subplot use an histogram to show the distribution of `Bathroom`, `Distance`, `Price`, `Rooms` separately. Please set the title for each subplot."
   ]
  },
  {
   "cell_type": "code",
   "execution_count": 35,
   "metadata": {},
   "outputs": [
    {
     "data": {
      "text/plain": [
       "Text(0.5,1,'Number of rooms in houses')"
      ]
     },
     "execution_count": 35,
     "metadata": {},
     "output_type": "execute_result"
    },
    {
     "data": {
      "image/png": "[encoded data removed]",
      "text/plain": [
       "<Figure size 864x720 with 4 Axes>"
      ]
     },
     "metadata": {},
     "output_type": "display_data"
    }
   ],
   "source": [
    "fig, ((ax1,ax2),(ax3,ax4)) = plt.subplots(nrows=2, ncols=2,figsize=(12, 10))\n",
    "N=15\n",
    "ax1.hist(housing['Bathroom'],bins=N, color = 'skyblue')\n",
    "ax1.set_title('Number of Bathrooms')\n",
    "\n",
    "ax2.hist(housing['Distance'],bins=N, color = 'lightpink')\n",
    "ax2.set_title('Distance')\n",
    "\n",
    "ax3.hist(housing['Price'],bins=N, color = 'palegreen')\n",
    "ax3.set_title('Housing prices')\n",
    "\n",
    "ax4.hist(housing['Rooms'],bins=N, color = 'aqua')\n",
    "ax4.set_title('Number of rooms in houses')"
   ]
  },
  {
   "cell_type": "markdown",
   "metadata": {},
   "source": [
    "f. Display a table with average values for the variables `Price` and `Rooms` for different types of house. "
   ]
  },
  {
   "cell_type": "code",
   "execution_count": 36,
   "metadata": {},
   "outputs": [],
   "source": [
    "#df['Type'].unique()"
   ]
  },
  {
   "cell_type": "code",
   "execution_count": 37,
   "metadata": {},
   "outputs": [],
   "source": [
    "#df['Type'].value_counts()"
   ]
  },
  {
   "cell_type": "code",
   "execution_count": 38,
   "metadata": {},
   "outputs": [
    {
     "data": {
      "text/html": [
       "<div>\n",
       "<style scoped>\n",
       "    .dataframe tbody tr th:only-of-type {\n",
       "        vertical-align: middle;\n",
       "    }\n",
       "\n",
       "    .dataframe tbody tr th {\n",
       "        vertical-align: top;\n",
       "    }\n",
       "\n",
       "    .dataframe thead th {\n",
       "        text-align: right;\n",
       "    }\n",
       "</style>\n",
       "<table border=\"1\" class=\"dataframe\">\n",
       "  <thead>\n",
       "    <tr style=\"text-align: right;\">\n",
       "      <th></th>\n",
       "      <th>Price</th>\n",
       "      <th>Rooms</th>\n",
       "    </tr>\n",
       "    <tr>\n",
       "      <th>Type</th>\n",
       "      <th></th>\n",
       "      <th></th>\n",
       "    </tr>\n",
       "  </thead>\n",
       "  <tbody>\n",
       "    <tr>\n",
       "      <th>h</th>\n",
       "      <td>1248.927370</td>\n",
       "      <td>3.365777</td>\n",
       "    </tr>\n",
       "    <tr>\n",
       "      <th>t</th>\n",
       "      <td>909.644374</td>\n",
       "      <td>2.855742</td>\n",
       "    </tr>\n",
       "    <tr>\n",
       "      <th>u</th>\n",
       "      <td>592.663567</td>\n",
       "      <td>1.963522</td>\n",
       "    </tr>\n",
       "  </tbody>\n",
       "</table>\n",
       "</div>"
      ],
      "text/plain": [
       "            Price     Rooms\n",
       "Type                       \n",
       "h     1248.927370  3.365777\n",
       "t      909.644374  2.855742\n",
       "u      592.663567  1.963522"
      ]
     },
     "execution_count": 38,
     "metadata": {},
     "output_type": "execute_result"
    }
   ],
   "source": [
    "housing.groupby('Type')[['Price', 'Rooms']].mean()"
   ]
  },
  {
   "cell_type": "markdown",
   "metadata": {},
   "source": [
    "g. Generate a variable for the logarithm of price and run a regression of log price on the number of rooms `Rooms` and a constant term. Please show in a table your estimates. "
   ]
  },
  {
   "cell_type": "code",
   "execution_count": 79,
   "metadata": {},
   "outputs": [
    {
     "name": "stdout",
     "output_type": "stream",
     "text": [
      "                            OLS Regression Results                            \n",
      "==============================================================================\n",
      "Dep. Variable:              log_Price   R-squared:                       0.311\n",
      "Model:                            OLS   Adj. R-squared:                  0.311\n",
      "Method:                 Least Squares   F-statistic:                     3614.\n",
      "Date:                Sat, 13 Oct 2018   Prob (F-statistic):               0.00\n",
      "Time:                        11:58:27   Log-Likelihood:                -4921.8\n",
      "No. Observations:                7996   AIC:                             9848.\n",
      "Df Residuals:                    7994   BIC:                             9862.\n",
      "Df Model:                           1                                         \n",
      "Covariance Type:            nonrobust                                         \n",
      "==============================================================================\n",
      "                 coef    std err          t      P>|t|      [0.025      0.975]\n",
      "------------------------------------------------------------------------------\n",
      "const          5.9019      0.016    360.291      0.000       5.870       5.934\n",
      "Rooms          0.3083      0.005     60.119      0.000       0.298       0.318\n",
      "==============================================================================\n",
      "Omnibus:                       76.329   Durbin-Watson:                   1.325\n",
      "Prob(Omnibus):                  0.000   Jarque-Bera (JB):               93.403\n",
      "Skew:                           0.166   Prob(JB):                     5.22e-21\n",
      "Kurtosis:                       3.412   Cond. No.                         11.4\n",
      "==============================================================================\n",
      "\n",
      "Warnings:\n",
      "[1] Standard Errors assume that the covariance matrix of the errors is correctly specified.\n"
     ]
    },
    {
     "name": "stderr",
     "output_type": "stream",
     "text": [
      "/anaconda3/lib/python3.6/site-packages/ipykernel_launcher.py:1: SettingWithCopyWarning: \n",
      "A value is trying to be set on a copy of a slice from a DataFrame.\n",
      "Try using .loc[row_indexer,col_indexer] = value instead\n",
      "\n",
      "See the caveats in the documentation: http://pandas.pydata.org/pandas-docs/stable/indexing.html#indexing-view-versus-copy\n",
      "  \"\"\"Entry point for launching an IPython kernel.\n"
     ]
    },
    {
     "data": {
      "text/html": [
       "<div>\n",
       "<style scoped>\n",
       "    .dataframe tbody tr th:only-of-type {\n",
       "        vertical-align: middle;\n",
       "    }\n",
       "\n",
       "    .dataframe tbody tr th {\n",
       "        vertical-align: top;\n",
       "    }\n",
       "\n",
       "    .dataframe thead th {\n",
       "        text-align: right;\n",
       "    }\n",
       "</style>\n",
       "<table border=\"1\" class=\"dataframe\">\n",
       "  <thead>\n",
       "    <tr style=\"text-align: right;\">\n",
       "      <th></th>\n",
       "      <th>const</th>\n",
       "      <th>Rooms</th>\n",
       "    </tr>\n",
       "  </thead>\n",
       "  <tbody>\n",
       "    <tr>\n",
       "      <th>0</th>\n",
       "      <td>1.0</td>\n",
       "      <td>2</td>\n",
       "    </tr>\n",
       "    <tr>\n",
       "      <th>1</th>\n",
       "      <td>1.0</td>\n",
       "      <td>3</td>\n",
       "    </tr>\n",
       "    <tr>\n",
       "      <th>2</th>\n",
       "      <td>1.0</td>\n",
       "      <td>4</td>\n",
       "    </tr>\n",
       "    <tr>\n",
       "      <th>3</th>\n",
       "      <td>1.0</td>\n",
       "      <td>3</td>\n",
       "    </tr>\n",
       "    <tr>\n",
       "      <th>4</th>\n",
       "      <td>1.0</td>\n",
       "      <td>2</td>\n",
       "    </tr>\n",
       "  </tbody>\n",
       "</table>\n",
       "</div>"
      ],
      "text/plain": [
       "   const  Rooms\n",
       "0    1.0      2\n",
       "1    1.0      3\n",
       "2    1.0      4\n",
       "3    1.0      3\n",
       "4    1.0      2"
      ]
     },
     "execution_count": 79,
     "metadata": {},
     "output_type": "execute_result"
    }
   ],
   "source": [
    "df['log_Price'] = np.log(df['Price'])\n",
    "\n",
    "y = df['log_Price']\n",
    "x = df['Rooms']\n",
    "x = sm.add_constant(x)\n",
    "reg1 = sm.OLS(y, x, missing='drop')\n",
    "results = reg1.fit()\n",
    "print(results.summary())\n",
    "\n",
    "x.head()"
   ]
  }
 ],
 "metadata": {
  "kernelspec": {
   "display_name": "Python 3",
   "language": "python",
   "name": "python3"
  },
  "language_info": {
   "codemirror_mode": {
    "name": "ipython",
    "version": 3
   },
   "file_extension": ".py",
   "mimetype": "text/x-python",
   "name": "python",
   "nbconvert_exporter": "python",
   "pygments_lexer": "ipython3",
   "version": "3.6.5"
  }
 },
 "nbformat": 4,
 "nbformat_minor": 2
}
