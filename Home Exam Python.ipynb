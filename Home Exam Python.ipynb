{
 "cells": [
  {
   "cell_type": "code",
   "execution_count": 132,
   "metadata": {},
   "outputs": [
    {
     "name": "stdout",
     "output_type": "stream",
     "text": [
      "Enter quiz score: 5\n",
      "A\n"
     ]
    }
   ],
   "source": [
    "# Problem 3\n",
    "quiz_score = input(\"Enter quiz score: \")\n",
    "\n",
    "try: \n",
    "    if float(quiz_score)>4 and float(quiz_score)<=5:\n",
    "        print(\"A\")\n",
    "    elif float(quiz_score)>3 and float(quiz_score)<=4:\n",
    "        print(\"B\")\n",
    "    elif float(quiz_score)>2 and float(quiz_score)<=3:\n",
    "        print(\"C\")\n",
    "    elif float(quiz_score)>1 and float(quiz_score)<=2:\n",
    "        print(\"D\")\n",
    "    elif float(quiz_score)<=1 and float(quiz_score)>=0:\n",
    "        print(\"F\")\n",
    "    elif float(quiz_score)>5:\n",
    "        print(\"The score is too high. Please try again.\")\n",
    "except: \n",
    "    print(\"Invalid input, please enter your quiz score.\")\n",
    "        "
   ]
  },
  {
   "cell_type": "markdown",
   "metadata": {},
   "source": [
    "\n",
    "        "
   ]
  },
  {
   "cell_type": "code",
   "execution_count": 271,
   "metadata": {},
   "outputs": [
    {
     "name": "stdout",
     "output_type": "stream",
     "text": [
      "Enter an integer between 0-100: 2\n",
      "Enter another integer between 0-100: 3\n",
      "Enter another integer between 0-100: 4\n",
      "Enter another integer between 0-100: 5\n",
      "Enter another integer between 0-100: 6\n",
      "Highest score: 6\n",
      "Lowest score: 2\n",
      "Average score: 4.0\n",
      "Second largest score: 5\n"
     ]
    }
   ],
   "source": [
    "# Problem 6\n",
    "num1 = int(input(\"Enter an integer between 0-100: \"))\n",
    "num2 = int(input(\"Enter another integer between 0-100: \"))\n",
    "num3 = int(input(\"Enter another integer between 0-100: \"))\n",
    "num4 = int(input(\"Enter another integer between 0-100: \"))\n",
    "num5 = int(input(\"Enter another integer between 0-100: \"))\n",
    "\n",
    "a_list = [num1, num2, num3, num4, num5]\n",
    "\n",
    "while True:\n",
    "    try:\n",
    "        print(\"Highest score:\",max(a_list))\n",
    "        print(\"Lowest score:\",min(a_list))\n",
    "        print(\"Average score:\", sum(a_list)/len(a_list))\n",
    "        print(\"Second largest score:\",sorted(a_list)[-2])\n",
    "        break\n",
    "    except:\n",
    "        print(\"Invalid input, please try again\")\n"
   ]
  },
  {
   "cell_type": "markdown",
   "metadata": {},
   "source": []
  },
  {
   "cell_type": "code",
   "execution_count": null,
   "metadata": {},
   "outputs": [],
   "source": []
  },
  {
   "cell_type": "code",
   "execution_count": null,
   "metadata": {},
   "outputs": [],
   "source": []
  },
  {
   "cell_type": "code",
   "execution_count": 227,
   "metadata": {},
   "outputs": [
    {
     "data": {
      "text/plain": [
       "0.9575066230015952"
      ]
     },
     "execution_count": 227,
     "metadata": {},
     "output_type": "execute_result"
    }
   ],
   "source": [
    "# Problem 10\n",
    "import numpy as np\n",
    "    \n",
    "\n",
    "def my_corr(x,y):\n",
    "    x = np.array([14.2, 16.4, 11.9, 15.2, 18.5, 22.1, 19.4, 25.1, 23.4, 18.1, 22.6, 17.2])\n",
    "    y = np.array([215, 325, 185, 332, 406, 522, 412, 614, 544, 421, 445, 408])\n",
    "    \n",
    "    #1 Mean of x and y\n",
    "    mean_x = x.mean()\n",
    "    mean_y = y.mean()\n",
    "    \n",
    "    #2 Subtracted value for x and y\n",
    "    sub_mean_x = (x - mean_x)\n",
    "    sub_mean_y = (y - mean_y)\n",
    "    \n",
    "    #3 Product of subtracted x and y\n",
    "    x_and_y = sub_mean_x * sub_mean_y\n",
    "    \n",
    "    #4 Squared x and y\n",
    "    squared_x = pow(sub_mean_x, 2)\n",
    "    squared_y = pow(sub_mean_y, 2)\n",
    "    \n",
    "    \n",
    "    return x_and_y.sum() / np.sqrt(squared_x.sum()*squared_y.sum())\n",
    "    \n",
    "my_corr(x,y)\n",
    "\n",
    "    \n",
    "    "
   ]
  },
  {
   "cell_type": "code",
   "execution_count": null,
   "metadata": {},
   "outputs": [],
   "source": []
  },
  {
   "cell_type": "code",
   "execution_count": null,
   "metadata": {},
   "outputs": [],
   "source": []
  },
  {
   "cell_type": "code",
   "execution_count": null,
   "metadata": {},
   "outputs": [],
   "source": []
  },
  {
   "cell_type": "code",
   "execution_count": null,
   "metadata": {},
   "outputs": [],
   "source": []
  },
  {
   "cell_type": "code",
   "execution_count": null,
   "metadata": {},
   "outputs": [],
   "source": []
  },
  {
   "cell_type": "code",
   "execution_count": 270,
   "metadata": {},
   "outputs": [
    {
     "name": "stdout",
     "output_type": "stream",
     "text": [
      "Enter an integer between 0 and 100: 54\n",
      "Enter an integer between 0 and 100: 37\n",
      "Enter an integer between 0 and 100: 86\n",
      "Enter an integer between 0 and 100: 34\n",
      "Enter an integer between 0 and 100: 76\n",
      "Highest score: 86\n",
      "Lowest score: 34\n",
      "Average score: 57.4\n",
      "Second largest score: 76\n"
     ]
    }
   ],
   "source": [
    "# Problem 6\n",
    "count_num = 0\n",
    "a_list = []\n",
    "\n",
    "\n",
    "while True:\n",
    "    try:\n",
    "        num = int(input(\"Enter an integer between 0 and 100: \"))\n",
    "        if 0 <= num and num <=100:\n",
    "            count_num += 1\n",
    "            a_list.append(int(num))\n",
    "            if len(a_list) == 5:\n",
    "                break\n",
    "        else:\n",
    "            print(\"Invalid value. Please enter a valid integer between 0 and 100.\")\n",
    "    \n",
    "    except:\n",
    "        print(\"Invalid  value, please try again.\")\n",
    "                     \n",
    "print(\"Highest score:\",max(a_list))\n",
    "print(\"Lowest score:\",min(a_list))\n",
    "print(\"Average score:\", sum(a_list)/len(a_list))\n",
    "print(\"Second largest score:\",sorted(a_list)[-2])"
   ]
  },
  {
   "cell_type": "code",
   "execution_count": null,
   "metadata": {},
   "outputs": [],
   "source": []
  }
 ],
 "metadata": {
  "kernelspec": {
   "display_name": "Python 3",
   "language": "python",
   "name": "python3"
  },
  "language_info": {
   "codemirror_mode": {
    "name": "ipython",
    "version": 3
   },
   "file_extension": ".py",
   "mimetype": "text/x-python",
   "name": "python",
   "nbconvert_exporter": "python",
   "pygments_lexer": "ipython3",
   "version": "3.6.5"
  }
 },
 "nbformat": 4,
 "nbformat_minor": 2
}
