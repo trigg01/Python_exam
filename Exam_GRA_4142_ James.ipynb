{
 "cells": [
  {
   "cell_type": "markdown",
   "metadata": {},
   "source": [
    "# Problem Two"
   ]
  },
  {
   "cell_type": "code",
   "execution_count": 3,
   "metadata": {},
   "outputs": [],
   "source": [
    "s1 = \"spam\"\n",
    "s2 = \"ni!\""
   ]
  },
  {
   "cell_type": "code",
   "execution_count": 6,
   "metadata": {},
   "outputs": [
    {
     "data": {
      "text/plain": [
       "'NI'"
      ]
     },
     "execution_count": 6,
     "metadata": {},
     "output_type": "execute_result"
    }
   ],
   "source": [
    "# Part a\n",
    "s2[0:2].upper()"
   ]
  },
  {
   "cell_type": "code",
   "execution_count": 8,
   "metadata": {},
   "outputs": [
    {
     "data": {
      "text/plain": [
       "'ni!spamni!'"
      ]
     },
     "execution_count": 8,
     "metadata": {},
     "output_type": "execute_result"
    }
   ],
   "source": [
    "# Part b\n",
    "s2+s1+s2"
   ]
  },
  {
   "cell_type": "code",
   "execution_count": 11,
   "metadata": {},
   "outputs": [
    {
     "data": {
      "text/plain": [
       "'Spam Ni!Spam Ni!Spam Ni!'"
      ]
     },
     "execution_count": 11,
     "metadata": {},
     "output_type": "execute_result"
    }
   ],
   "source": [
    "# Part c\n",
    "(s1.capitalize() + ' ' + s2.capitalize())*3"
   ]
  },
  {
   "cell_type": "code",
   "execution_count": 17,
   "metadata": {},
   "outputs": [
    {
     "data": {
      "text/plain": [
       "'maps'"
      ]
     },
     "execution_count": 17,
     "metadata": {},
     "output_type": "execute_result"
    }
   ],
   "source": [
    "# Part d\n",
    "s1[::-1]"
   ]
  },
  {
   "cell_type": "code",
   "execution_count": 20,
   "metadata": {},
   "outputs": [
    {
     "name": "stdout",
     "output_type": "stream",
     "text": [
      "['sp', 'm']\n"
     ]
    }
   ],
   "source": [
    "# Part e\n",
    "q_e = [s1[0:2], s1[3]]\n",
    "print(q_e)"
   ]
  },
  {
   "cell_type": "code",
   "execution_count": 21,
   "metadata": {},
   "outputs": [
    {
     "data": {
      "text/plain": [
       "'spm'"
      ]
     },
     "execution_count": 21,
     "metadata": {},
     "output_type": "execute_result"
    }
   ],
   "source": [
    "# Part f\n",
    "s1[0]+s1[1]+s1[3]"
   ]
  },
  {
   "cell_type": "markdown",
   "metadata": {},
   "source": [
    "# Problem Four"
   ]
  },
  {
   "cell_type": "code",
   "execution_count": 5,
   "metadata": {},
   "outputs": [
    {
     "name": "stdout",
     "output_type": "stream",
     "text": [
      "Please enter your weight in kilograms: 76\n",
      "Please enter your height in metres: 2\n",
      "Your BMI is: 19.0  This is in the healthy range\n"
     ]
    }
   ],
   "source": [
    "weight = input(\"Please enter your weight in kilograms: \")\n",
    "height = input(\"Please enter your height in metres: \")\n",
    "bmi = float(weight)/float(height)**2\n",
    "\n",
    "if 19 <= float(bmi) <= 25 :\n",
    "    print(\"Your BMI is:\", round(bmi,3), \" This is in the healthy range\")\n",
    "elif float(bmi) < 19:\n",
    "     print(\"Your BMI is:\", round(bmi,3), \" This is below the healthy range\")\n",
    "else:\n",
    "    print(\"Your BMI is:\", round(bmi,3), \" This is above the healthy range\")"
   ]
  },
  {
   "cell_type": "markdown",
   "metadata": {},
   "source": [
    "# Problem Five"
   ]
  },
  {
   "cell_type": "code",
   "execution_count": 9,
   "metadata": {},
   "outputs": [
    {
     "name": "stdout",
     "output_type": "stream",
     "text": [
      "[4, 3.1415, 'Hello', 'World']\n"
     ]
    }
   ],
   "source": [
    "# Part a\n",
    "# if you know the position\n",
    "prob5 = [4, 3.1415, 1.0, 'Hello', 'World']\n",
    "del(prob5[2])\n",
    "print(prob5)\n",
    "\n"
   ]
  },
  {
   "cell_type": "code",
   "execution_count": 14,
   "metadata": {},
   "outputs": [
    {
     "name": "stdout",
     "output_type": "stream",
     "text": [
      "[4, 3.1415, 'Hello', 'World']\n"
     ]
    }
   ],
   "source": [
    "# Part a - continued\n",
    "# if you do not know the position\n",
    "prob5 = [4, 3.1415, 1.0, 'Hello', 'World']\n",
    "prob5.remove(1.0)\n",
    "print(prob5)"
   ]
  },
  {
   "cell_type": "code",
   "execution_count": 28,
   "metadata": {},
   "outputs": [
    {
     "name": "stdout",
     "output_type": "stream",
     "text": [
      "[4, 3.1415, 1.0, 'Hello', 'World', 1.5, 4, 'Hello']\n"
     ]
    }
   ],
   "source": [
    "# Part b\n",
    "prob5 = [4, 3.1415, 1.0, 'Hello', 'World']\n",
    "prob5.extend((1.5, 4, 'Hello'))\n",
    "print(prob5)"
   ]
  },
  {
   "cell_type": "code",
   "execution_count": 29,
   "metadata": {},
   "outputs": [
    {
     "data": {
      "text/plain": [
       "['Hello', 4, 1.5, 'World', 'Hello', 1.0, 3.1415, 4]"
      ]
     },
     "execution_count": 29,
     "metadata": {},
     "output_type": "execute_result"
    }
   ],
   "source": [
    "# Part c\n",
    "#prob5[::-1]\n",
    "#print(prob5)\n",
    "prob5.reverse()\n",
    "prob5"
   ]
  },
  {
   "cell_type": "code",
   "execution_count": 31,
   "metadata": {},
   "outputs": [
    {
     "data": {
      "text/plain": [
       "2"
      ]
     },
     "execution_count": 31,
     "metadata": {},
     "output_type": "execute_result"
    }
   ],
   "source": [
    "# Part d\n",
    "prob5.count('Hello')"
   ]
  },
  {
   "cell_type": "markdown",
   "metadata": {},
   "source": [
    "# Problem Eight"
   ]
  },
  {
   "cell_type": "code",
   "execution_count": 60,
   "metadata": {},
   "outputs": [
    {
     "name": "stdout",
     "output_type": "stream",
     "text": [
      "Old Macdonald had a farm, Ee-igh, Ee-igh, Oh!\n",
      "And on that farm he had a cow , Ee-igh, Ee-igh, Oh! .\n",
      "With a  moo moo  here and a  moo moo  there.\n",
      "Here a  moo  there a  moo  everywhere a  moo moo .\n",
      "Old Macdonald had a farm, Ee-igh, Ee-igh, Oh!\n",
      "\n",
      "Old Macdonald had a farm, Ee-igh, Ee-igh, Oh!\n",
      "And on that farm he had a duck , Ee-igh, Ee-igh, Oh! .\n",
      "With a  quack quack  here and a  quack quack  there.\n",
      "Here a  quack  there a  quack  everywhere a  quack quack .\n",
      "Old Macdonald had a farm, Ee-igh, Ee-igh, Oh!\n",
      "\n",
      "Old Macdonald had a farm, Ee-igh, Ee-igh, Oh!\n",
      "And on that farm he had a pig , Ee-igh, Ee-igh, Oh! .\n",
      "With a  oink oink  here and a  oink oink  there.\n",
      "Here a  oink  there a  oink  everywhere a  oink oink .\n",
      "Old Macdonald had a farm, Ee-igh, Ee-igh, Oh!\n",
      "\n"
     ]
    }
   ],
   "source": [
    "animals = {\n",
    "            \"cow\":\"moo\",\n",
    "            \"duck\":\"quack\",\n",
    "            \"pig\":\"oink\"\n",
    "    }\n",
    "def chorus() : \n",
    "    print(\"Old Macdonald had a farm, Ee-igh, Ee-igh, Oh!\" )\n",
    "for x in animals:\n",
    "    chorus()\n",
    "    print('And on that farm he had a', x,  ', Ee-igh, Ee-igh, Oh! .\\n' \n",
    "          'With a ', animals[x], animals[x], ' here and a ' , animals[x], animals[x], ' there' '.\\n'\n",
    "            'Here a ', animals[x], ' there a ', animals[x], ' everywhere a ',animals[x], animals[x], '.')\n",
    "    chorus()\n",
    "    print()\n",
    "    "
   ]
  },
  {
   "cell_type": "markdown",
   "metadata": {},
   "source": [
    "# Problem Nine"
   ]
  },
  {
   "cell_type": "code",
   "execution_count": 4,
   "metadata": {},
   "outputs": [
    {
     "name": "stdout",
     "output_type": "stream",
     "text": [
      "Please enter your initial principle: 1000\n",
      "Now enter you annual interest rate as a decimal: 0.1\n",
      "Finally enter the number of years you plan to invest: 10\n",
      "If you invest 1000 for 10 years, the value of your investment would be 2593.742\n"
     ]
    }
   ],
   "source": [
    "prin = input(\"Please enter your initial principle: \")\n",
    "annual_int = input(\"Now enter you annual interest rate as a decimal: \")\n",
    "time = input(\"Finally enter the number of years you plan to invest: \")\n",
    "fv = float(prin) * ((1 + float(annual_int)) ** float(time))\n",
    "print(\"If you invest\", prin, \"for\", time, \"years, the value of your investment would be\", round(fv,3))"
   ]
  },
  {
   "cell_type": "code",
   "execution_count": 10,
   "metadata": {},
   "outputs": [],
   "source": [
    "def FV_Calc(principle, annual_interest, years_to_invest):\n",
    "    fv = float(principle) * ((1 + float(annual_interest)) ** float(years_to_invest))\n",
    "    print(\"If you invest\", principle, \"for\", years_to_invest, \"years at an interest rate of\", annual_interest,\n",
    "          \"the value of your investment would be\", round(fv,3))"
   ]
  },
  {
   "cell_type": "code",
   "execution_count": 19,
   "metadata": {},
   "outputs": [
    {
     "name": "stdout",
     "output_type": "stream",
     "text": [
      "If you invest 2000 for 7 years at an interest rate of 0.1 the value of your investment would be 3897.434\n"
     ]
    }
   ],
   "source": [
    "# Part a\n",
    "FV_Calc(2000,0.1,7)"
   ]
  },
  {
   "cell_type": "code",
   "execution_count": null,
   "metadata": {},
   "outputs": [],
   "source": [
    "# Part b"
   ]
  },
  {
   "cell_type": "code",
   "execution_count": 20,
   "metadata": {},
   "outputs": [
    {
     "name": "stdout",
     "output_type": "stream",
     "text": [
      "If you invest 2000 for 7 years at an interest rate of 0.01 the value of your investment would be 2144.271\n"
     ]
    }
   ],
   "source": [
    "FV_Calc(2000, 0.01, 7)"
   ]
  },
  {
   "cell_type": "code",
   "execution_count": 15,
   "metadata": {},
   "outputs": [
    {
     "name": "stdout",
     "output_type": "stream",
     "text": [
      "If you invest 2000 for 7 years at an interest rate of 0.03 the value of your investment would be 2459.748\n"
     ]
    }
   ],
   "source": [
    "FV_Calc(2000, 0.03, 7)"
   ]
  },
  {
   "cell_type": "code",
   "execution_count": 16,
   "metadata": {},
   "outputs": [
    {
     "name": "stdout",
     "output_type": "stream",
     "text": [
      "If you invest 2000 for 7 years at an interest rate of 0.05 the value of your investment would be 2814.201\n"
     ]
    }
   ],
   "source": [
    "FV_Calc(2000, 0.05, 7)"
   ]
  },
  {
   "cell_type": "code",
   "execution_count": 17,
   "metadata": {},
   "outputs": [
    {
     "name": "stdout",
     "output_type": "stream",
     "text": [
      "If you invest 2000 for 7 years at an interest rate of 0.08 the value of your investment would be 3427.649\n"
     ]
    }
   ],
   "source": [
    "FV_Calc(2000, 0.08, 7)"
   ]
  },
  {
   "cell_type": "code",
   "execution_count": 18,
   "metadata": {},
   "outputs": [
    {
     "name": "stdout",
     "output_type": "stream",
     "text": [
      "If you invest 2000 for 7 years at an interest rate of 0.1 the value of your investment would be 3897.434\n"
     ]
    }
   ],
   "source": [
    "FV_Calc(2000, 0.1, 7)"
   ]
  },
  {
   "cell_type": "markdown",
   "metadata": {},
   "source": [
    "# Problem Ten"
   ]
  },
  {
   "cell_type": "code",
   "execution_count": 21,
   "metadata": {},
   "outputs": [],
   "source": [
    "import numpy as np\n",
    "x = np.array([14.2, 16.4, 11.9, 15.2, 18.5, 22.1, 19.4, 25.1, 23.4, 18.1, 22.6, 17.2])\n",
    "y = y = np.array([215, 325, 185, 332, 406, 522, 412, 614, 544, 421, 445, 408])"
   ]
  },
  {
   "cell_type": "code",
   "execution_count": 31,
   "metadata": {},
   "outputs": [],
   "source": [
    "def my_corr(x,y):\n",
    "    # Step 1, calculate mean for respective arrays\n",
    "    x_mean = np.sum(x)/len(x)\n",
    "    y_mean = np.sum(y)/len(y)\n",
    "    \n",
    "    # Step 2, subtract the mean from each observation\n",
    "    sub_mean_x = (x - x_mean)\n",
    "    sub_mean_y = (y - y_mean)\n",
    "    \n",
    "    # Step 3, product of arrays\n",
    "    x_and_y = sub_mean_x * sub_mean_y\n",
    "    \n",
    "    # Step 4, square respective arrays\n",
    "    x_sqrd = sub_mean_x ** 2\n",
    "    y_sqrd = sub_mean_y **2\n",
    "    \n",
    "    # Step 5, calculate correlation\n",
    "    r = (x_and_y.sum())/np.sqrt(x_sqrd.sum() * y_sqrd.sum())\n",
    "    \n",
    "    print(\"The correlation is:\", round(r,4))"
   ]
  },
  {
   "cell_type": "code",
   "execution_count": 32,
   "metadata": {},
   "outputs": [
    {
     "name": "stdout",
     "output_type": "stream",
     "text": [
      "The correlation is: 0.9575\n"
     ]
    }
   ],
   "source": [
    "my_corr(x,y)"
   ]
  }
 ],
 "metadata": {
  "kernelspec": {
   "display_name": "Python 3",
   "language": "python",
   "name": "python3"
  },
  "language_info": {
   "codemirror_mode": {
    "name": "ipython",
    "version": 3
   },
   "file_extension": ".py",
   "mimetype": "text/x-python",
   "name": "python",
   "nbconvert_exporter": "python",
   "pygments_lexer": "ipython3",
   "version": "3.6.5"
  }
 },
 "nbformat": 4,
 "nbformat_minor": 2
}
